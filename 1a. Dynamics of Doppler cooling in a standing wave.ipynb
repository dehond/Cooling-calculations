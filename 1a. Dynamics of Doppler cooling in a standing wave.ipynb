{
 "cells": [
  {
   "cell_type": "code",
   "execution_count": 1,
   "metadata": {},
   "outputs": [],
   "source": [
    "using QuantumOptics\n",
    "using Plots\n",
    "using LaTeXStrings\n",
    "using StatsBase\n",
    "pyplot();"
   ]
  },
  {
   "cell_type": "markdown",
   "metadata": {},
   "source": [
    "## Dynamics of Doppler cooling in a standing wave\n",
    "A paradigmatic example for exploring the dynamics of cooling is to look at a two-level system in a standing wave. For the right detuning, it exhibits cooling up to the Doppler limit. We'll assume a standing wave of circularly polarized light that couples two levels. We'll take the semi-classical approach, which means we only treat the internal state of the atom quantum mechanically. I.e.:\n",
    "\n",
    "$$\n",
    "    \\mathcal{H} = \\cos\\left(kz\\right) \\Omega \\left( |e\\rangle\\langle g| + |g\\rangle\\langle e| \\right) - \\delta |e\\rangle\\langle e|.\n",
    "$$\n",
    "\n",
    "We'll discuss the (classical) motion below. First set the laser parameters:"
   ]
  },
  {
   "cell_type": "code",
   "execution_count": 2,
   "metadata": {},
   "outputs": [],
   "source": [
    "δ = -0.5;\n",
    "Ω = 0.5;\n",
    "s₀ = 2 * Ω^2;\n",
    "s = 2*Ω^2 / (4*δ^2 + 1);"
   ]
  },
  {
   "cell_type": "markdown",
   "metadata": {},
   "source": [
    "Set up the two-level basis for operator definitions:"
   ]
  },
  {
   "cell_type": "code",
   "execution_count": 3,
   "metadata": {},
   "outputs": [],
   "source": [
    "sbasis = GenericBasis(2);"
   ]
  },
  {
   "cell_type": "markdown",
   "metadata": {},
   "source": [
    "Define the Hamiltonian and force as dense operators. (We could also use `SparseOperator()`, but who really cares about that in a two-level system?) The force is defined clasically as\n",
    "$$\n",
    "    F = -\\langle \\nabla\\mathcal{H} \\rangle.\n",
    "$$"
   ]
  },
  {
   "cell_type": "code",
   "execution_count": 5,
   "metadata": {},
   "outputs": [],
   "source": [
    "H(z) = DenseOperator(sbasis, Ω * [0 cos(z); cos(z) 0] - δ * [0 0; 0 1])\n",
    "F(z) = DenseOperator(sbasis, Ω * [0 sin(z); sin(z) 0]);   # Force"
   ]
  },
  {
   "cell_type": "markdown",
   "metadata": {},
   "source": [
    "Next define the quantum jump operators. There are two decay paths of equal strength. Recall that in our units the rate is simply 1:"
   ]
  },
  {
   "cell_type": "code",
   "execution_count": 6,
   "metadata": {},
   "outputs": [],
   "source": [
    "rate = [1.];\n",
    "L = [SparseOperator(sbasis, complex(sparse([0 1.; 0 0])))]\n",
    "Ldagger = dagger.(L);"
   ]
  },
  {
   "cell_type": "markdown",
   "metadata": {},
   "source": [
    "Define the initial condition and the time axis; these are the last ingredients needed for solving the master equation. We define a function that returns the force for some specified velocity:"
   ]
  },
  {
   "cell_type": "code",
   "execution_count": 7,
   "metadata": {},
   "outputs": [
    {
     "data": {
      "text/plain": [
       "fquantum_master (generic function with 1 method)"
      ]
     },
     "execution_count": 7,
     "metadata": {},
     "output_type": "execute_result"
    }
   ],
   "source": [
    "function fquantum_master(t, ψ, u)\n",
    "    return H(u[1]), L, Ldagger\n",
    "end"
   ]
  },
  {
   "cell_type": "code",
   "execution_count": 415,
   "metadata": {},
   "outputs": [
    {
     "data": {
      "text/plain": [
       "fjump_classical (generic function with 1 method)"
      ]
     },
     "execution_count": 415,
     "metadata": {},
     "output_type": "execute_result"
    }
   ],
   "source": [
    "dimlessmass = 796.89;    # For Rb-87\n",
    "dimlessmass = 200.       # For Na-23\n",
    "\n",
    "pkicks = [1.; 1.; 1.; -1.; -1.; -1.; 0.; 0.; -2.; 2.];\n",
    "\n",
    "function fclassical(t, ψ, u, du)\n",
    "    # u[1] = z\n",
    "    # u[2] = p\n",
    "    if isa(ψ, Ket)\n",
    "        normFac = dagger(ψ) * ψ;\n",
    "    elseif isa(ψ, DenseOperator)\n",
    "        normFac = tr(ψ);\n",
    "    end\n",
    "    du[1] = u[2]/dimlessmass;\n",
    "    du[2] = real(expect(F(u[1]), ψ)) / normFac;\n",
    "    return nothing\n",
    "end\n",
    "\n",
    "function fjump_classical(t, ψ, u, i)\n",
    "    u[2] += sample(pkicks);\n",
    "    u[3] += 1.;\n",
    "    return nothing\n",
    "end"
   ]
  },
  {
   "cell_type": "code",
   "execution_count": 420,
   "metadata": {},
   "outputs": [],
   "source": [
    "ψ₀ = Ket(sbasis, [1, 0]);\n",
    "ψsc = semiclassical.State(ψ₀, ComplexF64[0., 20., 0.])\n",
    "T = [0 : 0.01 : 4000;];"
   ]
  },
  {
   "cell_type": "code",
   "execution_count": 358,
   "metadata": {},
   "outputs": [],
   "source": [
    "Ntraj = 1000;\n",
    "Ωs = [0.5];\n",
    "\n",
    "ψsc0 = semiclassical.State(ψ₀, ComplexF64[0., 0., 0.]);\n",
    "\n",
    "p_MCsq = [zeros(length(T)) for i in 1:length(Ωs)]\n",
    "p_MC = [zeros(length(T)) for i in 1:length(Ωs)]\n",
    "ρ = [];\n",
    "\n",
    "for j = 1:length(Ωs)\n",
    "    Ω = Ωs[j]\n",
    "    for i = 1:Ntraj\n",
    "        t_, ρ = semiclassical.mcwf_dynamic(T, ψsc0, fquantum_master, fclassical, fjump_classical); #; fout = fout);\n",
    "        p_ = real.([ψ.classical[2] for ψ in ρ]);\n",
    "\n",
    "        p_MC[j] += p_ / Ntraj;\n",
    "        p_MCsq[j] += p_.^2 / Ntraj;\n",
    "        if i % 10 == 0\n",
    "            print(Ω, \"\\t\", i, \"\\n\");\n",
    "        end\n",
    "    end\n",
    "    IJulia.clear_output()\n",
    "end"
   ]
  },
  {
   "cell_type": "code",
   "execution_count": 423,
   "metadata": {},
   "outputs": [
    {
     "data": {
      "image/png": "[encoded data removed]"
     },
     "execution_count": 423,
     "metadata": {},
     "output_type": "execute_result"
    }
   ],
   "source": [
    "plot(T, p_MCsq[1], label = \"\",\n",
    "    frame = true,\n",
    "    xlabel = L\"Time ($1/\\Gamma$)\",\n",
    "    ylabel = L\"$\\langle \\left(p/\\hbar k \\right)^2\\rangle$\",\n",
    "    yaxis = font(15),\n",
    "    xaxis = font(15))"
   ]
  },
  {
   "cell_type": "code",
   "execution_count": null,
   "metadata": {},
   "outputs": [],
   "source": []
  }
 ],
 "metadata": {
  "kernelspec": {
   "display_name": "Julia 1.2.0",
   "language": "julia",
   "name": "julia-1.2"
  },
  "language_info": {
   "file_extension": ".jl",
   "mimetype": "application/julia",
   "name": "julia",
   "version": "1.2.0"
  },
  "widgets": {
   "application/vnd.jupyter.widget-state+json": {
    "state": {},
    "version_major": 2,
    "version_minor": 0
   }
  }
 },
 "nbformat": 4,
 "nbformat_minor": 4
}
