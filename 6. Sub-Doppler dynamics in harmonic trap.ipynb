{
 "cells": [
  {
   "cell_type": "code",
   "execution_count": null,
   "metadata": {},
   "outputs": [],
   "source": [
    "using QuantumOptics\n",
    "using WignerSymbols\n",
    "using FFTW\n",
    "using Plots\n",
    "using LaTeXStrings\n",
    "using Random\n",
    "using Statistics\n",
    "using LinearAlgebra\n",
    "pyplot();"
   ]
  },
  {
   "cell_type": "markdown",
   "metadata": {},
   "source": [
    "## Sub-Doppler cooling in a $\\sigma^--\\sigma^+$ molasses configuration (harmonic trap)\n",
    "It turns out that if we use an atom with a more complicated electronic structe, we get sub-Doppler cooling through polarization gradients for free in this molasses configuration. It works for any $J \\rightarrow J' = J + 1$ transition, with the $J = 1 \\rightarrow J' = 2$ transition as the simplest case. If we denote the ground states by $|g_0\\rangle, |g_{\\pm 1}\\rangle$ and the excited states by $|e_0\\rangle, |e_{\\pm 1}\\rangle, |e_{\\pm 2}\\rangle$, the Hamiltonian is given by:\n",
    "\\begin{align}\n",
    "    \\mathcal{H} &= \\frac{\\Omega}{2} \\Bigg[ e^{ikz} \\left( |e_2\\rangle\\langle g_1| + \\frac{1}{\\sqrt{2}} |e_1\\rangle\\langle g_0| + \\frac{1}{\\sqrt{6}} |e_0\\rangle\\langle g_{-1}| \\right) \\\\\n",
    "                &\\quad + e^{-ikz} \\left( |e_{-2}\\rangle\\langle g_{-1}| + \\frac{1}{\\sqrt{2}} |e_{-1}\\rangle\\langle g_0| + \\frac{1}{\\sqrt{6}} |e_{-2}\\rangle\\langle g_{-1}| \\right) \\Bigg] + \\mathrm{H.c.} \\\\\n",
    "                &\\quad -\\delta \\sum_e |e\\rangle\\langle e|\n",
    "\\end{align}\n",
    "Here we can identify two running waves of opposite circular polarization traveling in opposite directions. They do not form any intensity gradient, but as Jean Dalibard and Claude Cohen-Tannoudji [have shown](https://www.osapublishing.org/josab/abstract.cfm?uri=josab-6-11-2023) it rather results in a corkscrew-like pattern of rotating linear polarization. The sum on the last line is understood to run over all excited states $|e\\rangle$.\n",
    "\n",
    "#### Units\n",
    "In cooling calculations it's convenient to express all frequencies in units of $\\Gamma$, the natural line width, and any distances in units of $1/k$, also known as $ƛ$. This means velocities are given in units of $\\Gamma/k$. Furthermore, we have chosen atomic units (by setting $\\hbar = 1$), which means forces are readily expressed in units of $\\hbar k \\Gamma$."
   ]
  },
  {
   "cell_type": "code",
   "execution_count": 2,
   "metadata": {},
   "outputs": [],
   "source": [
    "δ = -0.5;\n",
    "Ω = 0.25;\n",
    "s₀ = 2 * Ω^2;\n",
    "s = 2*Ω^2 / (4*δ^2 + 1);"
   ]
  },
  {
   "cell_type": "markdown",
   "metadata": {},
   "source": [
    "We need a basis that includes the three hyperfine ground states $|1, -1\\rangle, |1, 0\\rangle, |1, 1\\rangle$ and the five hyperfine excited states: $|2, -2\\rangle \\cdots |2, 2\\rangle$.\n",
    "To this order we'll set up an 8-dimensional generic basis, where we'll stick in the couplings by hand. "
   ]
  },
  {
   "cell_type": "code",
   "execution_count": 3,
   "metadata": {},
   "outputs": [],
   "source": [
    "Fg = 1;\n",
    "Fe = 2;\n",
    "nStates = 2*(Fg + Fe) + 2;\n",
    "gStates= [[Fg, mFg] for mFg in [-Fg:Fg;]];\n",
    "eStates = [[Fe, mFe] for mFe in [-Fe:Fe;]];\n",
    "states = [gStates; eStates];\n",
    "sbasis = GenericBasis(nStates);"
   ]
  },
  {
   "cell_type": "code",
   "execution_count": 4,
   "metadata": {},
   "outputs": [],
   "source": [
    "σmincoupling = [[[j+(2*Fg + 1) i 1. * clebschgordan(gStates[i][1], gStates[i][2], 1, -1, eStates[j][1], eStates[j][2] )] for i in [1:(2*Fg + 1);]] for j in [1:(2*Fe + 1);]];\n",
    "σmincoupling = collect(Iterators.flatten(σmincoupling));\n",
    "VminMat = vcat(σmincoupling...);\n",
    "Vminhalf = Ω / 2 * SparseOperator(sbasis, complex(sparse(VminMat[:, 1], VminMat[:, 2], VminMat[:, 3], nStates, nStates)));\n",
    "Vmintot(z) = exp(-im * z) * Vminhalf + dagger(exp(-im * z) * Vminhalf);\n",
    "\n",
    "σpluscoupling = [[[j+(2*Fg + 1) i 1. * clebschgordan(gStates[i][1], gStates[i][2], 1, 1, eStates[j][1], eStates[j][2] )] for i in [1:(2*Fg + 1);]] for j in [1:(2*Fe + 1);]];\n",
    "σpluscoupling = collect(Iterators.flatten(σpluscoupling));\n",
    "VplusMat = vcat(σpluscoupling...);\n",
    "Vplushalf = Ω / 2 * SparseOperator(sbasis, complex(sparse(VplusMat[:, 1], VplusMat[:, 2], VplusMat[:, 3], nStates, nStates)));\n",
    "Vplustot(z) = exp(im * z) * Vplushalf + dagger(exp(im * z) * Vplushalf);"
   ]
  },
  {
   "cell_type": "markdown",
   "metadata": {},
   "source": [
    "Define the Hamiltonian and force. The force is defined clasically as\n",
    "$$\n",
    "    F = -\\langle \\nabla\\mathcal{H} \\rangle.\n",
    "$$"
   ]
  },
  {
   "cell_type": "code",
   "execution_count": 5,
   "metadata": {},
   "outputs": [],
   "source": [
    "diagonalTerm = SparseOperator(sbasis, complex(Matrix(Diagonal([zeros(2*Fg + 1); ones(2*Fe + 1)]))));"
   ]
  },
  {
   "cell_type": "code",
   "execution_count": 6,
   "metadata": {},
   "outputs": [],
   "source": [
    "H(z) = Vplustot(z) + Vmintot(z) - δ * diagonalTerm;\n",
    "F(z) = -im * (-exp(-im * z) * Vminhalf + dagger(exp(-im * z) * Vminhalf) + exp(im * z) * Vplushalf - dagger(exp(im * z) * Vplushalf));"
   ]
  },
  {
   "cell_type": "markdown",
   "metadata": {},
   "source": [
    "### Decay, dephasing, and jump operators\n",
    "The full evolution of the density matrix $\\rho$ is given by the master equation\n",
    "$$\n",
    "    \\frac{d\\rho}{dt} = -i\\left[\\mathcal{H}, \\rho \\right] + \\sum_L L\\rho L^\\dagger - \\frac{1}{2} \\left\\{ L^\\dagger L, \\rho \\right\\}.\n",
    "$$\n",
    "where $L$ are the quantum jump operators. Due to our choice of units, the values that enter in the matrices are simply the Clebsch-Gordan coefficients. The rate (which is specified separately) is unity. We don't really need to bother with this master equation itself, since QuantumOptics.jl will do it for us.\n",
    "\n",
    "We obtain the quantum jump operators by iterating over all the possible couplings, and using those with nonzero Clebsch-Gordan coefficients. To that extent, we need the couplings by $\\pi$ photons as well. Decay paths with the same polarization are combined into a single jump operator."
   ]
  },
  {
   "cell_type": "code",
   "execution_count": 7,
   "metadata": {},
   "outputs": [],
   "source": [
    "πcoupling = [[[j+(2*Fg + 1) i 1. * clebschgordan(gStates[i][1], gStates[i][2], 1, 0, eStates[j][1], eStates[j][2] )] for i in [1:(2*Fg + 1);]] for j in [1:(2*Fe + 1);]];\n",
    "πcoupling = collect(Iterators.flatten(πcoupling));\n",
    "\n",
    "L = [];\n",
    "\n",
    "# Loop over all excited states, and find paths down\n",
    "for couplings in (σmincoupling, σpluscoupling, πcoupling)\n",
    "    cpls = vcat(couplings...);\n",
    "    \n",
    "    # Combine all decays with a particular polarization into one jump operator (select nonzero elements)\n",
    "    cpls = cpls[ cpls[:, 3] .> 0., : ]\n",
    "    \n",
    "    # Construct the jump operator describing that decay\n",
    "    L = vcat(L, SparseOperator(sbasis, sparse(cpls[:, 2], cpls[:, 1], complex(cpls[:, 3]), nStates, nStates)));\n",
    "end\n",
    "\n",
    "rate = ones(3);\n",
    "Ldagger = dagger.(L);"
   ]
  },
  {
   "cell_type": "code",
   "execution_count": 91,
   "metadata": {},
   "outputs": [
    {
     "data": {
      "text/plain": [
       "3-element Array{Any,1}:\n",
       " SparseOperator(dim=8x8)\n",
       "  basis: Basis(dim=8)\n",
       "  [1, 4]  =  1.0+0.0im\n",
       "  [2, 5]  =  0.707107+0.0im\n",
       "  [3, 6]  =  0.408248+0.0im     \n",
       " SparseOperator(dim=8x8)\n",
       "  basis: Basis(dim=8)\n",
       "  [1, 6]  =  0.408248+0.0im\n",
       "  [2, 7]  =  0.707107+0.0im\n",
       "  [3, 8]  =  1.0+0.0im     \n",
       " SparseOperator(dim=8x8)\n",
       "  basis: Basis(dim=8)\n",
       "  [1, 5]  =  0.707107+0.0im\n",
       "  [2, 6]  =  0.816497+0.0im\n",
       "  [3, 7]  =  0.707107+0.0im"
      ]
     },
     "execution_count": 91,
     "metadata": {},
     "output_type": "execute_result"
    }
   ],
   "source": [
    "L"
   ]
  },
  {
   "cell_type": "markdown",
   "metadata": {},
   "source": [
    "Define the initial condition and the time axis; these are the last ingredients needed for solving the master equation. We define a function that returns the force for some specified velocity. The wave function needs to be evolved for long enough such that it reaches equilibrium. We have found that a time of $4\\pi/v$ does the job (the slower the atom, the longer it takes to reach equilibrium)."
   ]
  },
  {
   "cell_type": "code",
   "execution_count": 10,
   "metadata": {},
   "outputs": [
    {
     "data": {
      "text/plain": [
       "fquantum_master (generic function with 1 method)"
      ]
     },
     "execution_count": 10,
     "metadata": {},
     "output_type": "execute_result"
    }
   ],
   "source": [
    "function fquantum_master(t, ψ, u)\n",
    "    return H(u[1]), L, Ldagger\n",
    "end"
   ]
  },
  {
   "cell_type": "markdown",
   "metadata": {},
   "source": [
    "### The classical part\n",
    "Below we define the classical part of the problem. `QuantumOptics.jl` encodes the classical variables in a vector `u`. We define the first component as the position, and the second component as the momentum. Above we already introduced the classical force due to the light fields, here we add the harmonic confinement to that. We need to take some care with units, though. We already defined the mass unit through $\\hbar$, and the energy through $\\hbar\\Gamma$. Therefore, any force is in units of $\\hbar k\\Gamma$, which leads to a prefactor in the harmonic force:\n",
    "\n",
    "$$\n",
    "    F_h = -m\\omega^2 x\n",
    "$$\n",
    "\n",
    "In dimensionless units:\n",
    "\n",
    "$$\n",
    "    F_h = - \\left( \\frac{m\\Gamma}{\\hbar k^2} \\right) \\omega^2 x,\n",
    "$$\n",
    "\n",
    "here $\\omega$ and $x$ are understood to be dimensionless as well. The factor between parentheses is the dimensionless mass, which, for rubidium 87 is roughly equal to 796. We add this to the force due to the light fields below.\n",
    "\n",
    "The recoil momentum $\\hbar k$ is simply 1 in our dimensionless units. Whenever a quantum jump occurs,"
   ]
  },
  {
   "cell_type": "code",
   "execution_count": 109,
   "metadata": {},
   "outputs": [
    {
     "data": {
      "text/plain": [
       "fjump_classical (generic function with 1 method)"
      ]
     },
     "execution_count": 109,
     "metadata": {},
     "output_type": "execute_result"
    }
   ],
   "source": [
    "ωₜ = 0.04;\n",
    "dimlessmass = 796.89;\n",
    "\n",
    "function fclassical(t, ψ, u, du)\n",
    "    # u[1] = z\n",
    "    # u[2] = p\n",
    "    if isa(ψ, Ket)\n",
    "        normFac = dagger(ψ) * ψ;\n",
    "    elseif isa(ψ, DenseOperator)\n",
    "        normFac = tr(ψ);\n",
    "    end\n",
    "    du[1] = u[2]/dimlessmass;\n",
    "    du[2] = real(expect(F(u[1]), ψ)) / normFac - dimlessmass * ωₜ^2 * u[1];\n",
    "    du[3] = 0.\n",
    "    return nothing\n",
    "end\n",
    "\n",
    "# Generate probabilities for all recoil processes\n",
    "σkicks = [-1. 0. 0. 0. 1.];\n",
    "σkicks = [σkicks .- 1. σkicks .+ 1.];\n",
    "πkicks = [-1. 0. 0. 0. 0. 0. 0. 0. 0. 1.];\n",
    "πkicks = [πkicks .- 1. πkicks .+ 1.];\n",
    "\n",
    "function fjump_classical(t, ψ, u, i)\n",
    "    if i == 1 || i == 2   # A σ₊₋ photon was emitted\n",
    "        u[2] += σkicks[ rand(1:end) ];\n",
    "    elseif i == 3         # A π photon was emitted\n",
    "        u[2] += πkicks[ rand(1:end) ];\n",
    "    end\n",
    "    p3D = rand(3) .- 0.5;\n",
    "    normalize!(p3D);\n",
    "    u[2] += p3D[1];\n",
    "    u[3] += 1.;\n",
    "    return nothing\n",
    "end"
   ]
  },
  {
   "cell_type": "markdown",
   "metadata": {},
   "source": [
    "### Launch simulations\n",
    "We can compare a master-equation evolution without recoil effects to a bunch of averaged Monte Carlo trajectories (inspired by [this example](https://docs.qojulia.org/examples/cavity-cooling/#Cavity-cooling-of-a-two-level-atom-1) from the QuantumOptics.jl documentation)."
   ]
  },
  {
   "cell_type": "code",
   "execution_count": 22,
   "metadata": {},
   "outputs": [],
   "source": [
    "p0 = 0.;    # Initial momentum\n",
    "x0 = 0.;     # Initial position\n",
    "\n",
    "ψ₀ = Ket(sbasis, [1; 1; 1; zeros(nStates - 3)])/sqrt(3);\n",
    "u0 = ComplexF64[x0, p0, 0.];\n",
    "ρ_sc = semiclassical.State(ψ₀, u0);\n",
    "\n",
    "fout = (t, psi) -> real(psi.classical[2]);\n",
    "\n",
    "T = [0 : 0.1 : 30000;];\n",
    "#tout, p_mastereq = semiclassical.master_dynamic(T, ρ_sc, fquantum_master, fclassical; fout = fout);"
   ]
  },
  {
   "cell_type": "code",
   "execution_count": null,
   "metadata": {},
   "outputs": [],
   "source": [
    "Ntraj = 100;\n",
    "Ωs = [0.25];\n",
    "\n",
    "p_MCsq = [zeros(length(T)) for i in 1:length(Ωs)];\n",
    "p_MC = [zeros(length(T)) for i in 1:length(Ωs)];\n",
    "\n",
    "for j = 1:length(Ωs)\n",
    "    Ω = Ωs[j];\n",
    "    for i = 1:Ntraj\n",
    "        t_, ρ = semiclassical.mcwf_dynamic(T, ρ_sc, fquantum_master, fclassical, fjump_classical); #; fout = fout);\n",
    "        p_ = real.([ψ.classical[2] for ψ in ρ]);\n",
    "\n",
    "        p_MC[j] += p_ / Ntraj;\n",
    "        p_MCsq[j] += p_.^2 / Ntraj;\n",
    "        if i % 10 == 0\n",
    "            print(Ω, \"\\t\", i, \"\\n\");\n",
    "        end\n",
    "    end\n",
    "    IJulia.clear_output()\n",
    "end"
   ]
  },
  {
   "cell_type": "code",
   "execution_count": 89,
   "metadata": {},
   "outputs": [
    {
     "data": {
      "image/png": "[encoded data removed]"
     },
     "execution_count": 89,
     "metadata": {},
     "output_type": "execute_result"
    }
   ],
   "source": [
    "plot(T, p_MCsq[1], label = \"MCWF average\",\n",
    "    frame = true,\n",
    "    xlabel = L\"Time ($1/\\Gamma$)\",\n",
    "    ylabel = L\"$\\langle \\left(p/\\hbar k \\right)^2\\rangle$\",\n",
    "    yaxis = font(15),\n",
    "    xaxis = font(15),\n",
    "    title = L\"$\\sigma_--\\sigma_+$ molasses in a 1D harmonic trap\")\n",
    "#plot!(T, p_MCsq[2])"
   ]
  },
  {
   "cell_type": "raw",
   "metadata": {},
   "source": [
    "for i in 1:length(Ωs)\n",
    "    dat = reshape([T p_MCsq[i]], 300001, 2);\n",
    "    fname = \"../diary-images/05222020/Rb-sub-Doppler-cooling-trap-Omega-\" * Printf.@sprintf(\"%.2f\", Ωs[i]) * \".csv\";\n",
    "    writedlm(fname, dat, ',');\n",
    "end"
   ]
  },
  {
   "cell_type": "code",
   "execution_count": null,
   "metadata": {},
   "outputs": [],
   "source": []
  }
 ],
 "metadata": {
  "kernelspec": {
   "display_name": "Julia 1.2.0",
   "language": "julia",
   "name": "julia-1.2"
  },
  "language_info": {
   "file_extension": ".jl",
   "mimetype": "application/julia",
   "name": "julia",
   "version": "1.2.0"
  },
  "widgets": {
   "application/vnd.jupyter.widget-state+json": {
    "state": {},
    "version_major": 2,
    "version_minor": 0
   }
  }
 },
 "nbformat": 4,
 "nbformat_minor": 4
}
