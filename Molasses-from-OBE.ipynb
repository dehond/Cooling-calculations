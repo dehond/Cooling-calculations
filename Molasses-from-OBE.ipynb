{
 "cells": [
  {
   "cell_type": "code",
   "execution_count": null,
   "metadata": {},
   "outputs": [],
   "source": [
    "using QuantumOptics\n",
    "using Plots\n",
    "using LaTeXStrings\n",
    "pyplot();"
   ]
  },
  {
   "cell_type": "markdown",
   "metadata": {},
   "source": [
    "## Doppler cooling in a $\\sigma^--\\sigma^+$ molasses configuration\n",
    "Intuitively, the picture of an atom decelerating in a negatively detuned running wave is simple: in the atom's frame the Doppler effect shifts the laser into resonance, the atom scatters photons, and it slows down. The Doppler shift is reduced, and gradually the atom falls out of resonance. In the co-moving frame, this can be described by a velocity-dependent detuning. Things become a little more complicated if there are beams coming from multiple directions, since then the Doppler shifts are different. In that case it might make more sense to describe everything in the lab frame; to practice with that, let's see if we can describe the effect of a single running wave in the lab frame first. \n",
    "\n",
    "We use the classical (velocity-dependent) force. In a way, it's a little artificial since we ignore the momentum in our calculation. This means that the atom will continue moving at the same velocity, regardless of the force that works on it. It is merely a calculational trick to find out what the instantaneous force $F$ is that works on an atom moving at velocity $v$ in the steady-state limit. If we would like to see how fast the atom slows down, we need to include the differential equations for position and momentum as well (which would be perfectly well possible, but it's not what we're after now). \n",
    "\n",
    "We'll assume a V-level diagram, with a single ground state, and two excited states, each of which is coupled by its own polarization.\n",
    "\n",
    "#### Units\n",
    "In cooling calculations it's convenient to express all frequencies in units of $\\Gamma$, the natural line width. Furthermore, if we chose atomic units (by setting $\\hbar = 1$) this means that we effectively solve $\\tilde{\\mathcal{H}}$, which is related to the original Hamiltonian $\\mathcal{H}$ via: $\\tilde{\\mathcal{H}} = \\mathcal{H}/\\hbar\\Gamma$.\n",
    "\n",
    "Dropping the tildes, the Hamiltonian becomes:\n",
    "$$\n",
    "    \\mathcal{H} = \\frac{\\Omega}{2} \\left( e^{ikz} |e_-\\rangle\\langle g| + e^{-ikz} |g\\rangle\\langle e_-| + e^{-ikz} |e_+\\rangle\\langle g| + e^{ikz} |g\\rangle\\langle e_+| \\right) - \\delta \\left( |e_-\\rangle\\langle e_-| + |e_+\\rangle\\langle e_+| \\right).\n",
    "$$\n",
    "Here the frequencies $\\Omega$ and $\\delta$ are understood to be in units of $\\Gamma$. This becomes apparent when we look at the jump operator $L$, which, in these units, is simply given by: $L = |g\\rangle\\langle e|$. (In full units it would carry a factor $\\sqrt{\\Gamma}$). The full evolution of the density matrix $\\rho$ is now given by the master equation\n",
    "$$\n",
    "    i\\frac{d\\rho}{dt} = \\left[\\mathcal{H}, \\rho \\right] + L\\rho L^\\dagger - \\frac{1}{2} \\left\\{ L^\\dagger L, \\rho \\right\\}.\n",
    "$$\n",
    "(But we don't really need to bother with that since QuantumOptics.jl will do it for us.)"
   ]
  },
  {
   "cell_type": "code",
   "execution_count": null,
   "metadata": {},
   "outputs": [],
   "source": [
    "δ = -1.;\n",
    "Ω = 1.;\n",
    "k = 1.;  #2*π / 0.78; # in 1/μm"
   ]
  },
  {
   "cell_type": "markdown",
   "metadata": {},
   "source": [
    "Set up a simple three-level basis that we can use to define operators. We use $\\left\\{ |g\\rangle, |e_-\\rangle, |e_+\\rangle \\right\\}$."
   ]
  },
  {
   "cell_type": "code",
   "execution_count": null,
   "metadata": {},
   "outputs": [],
   "source": [
    "sbasis = GenericBasis(3);"
   ]
  },
  {
   "cell_type": "markdown",
   "metadata": {},
   "source": [
    "Define the Hamiltonian and force as dense operators. (We could also use `SparseOperator()`, but who really cares about that in a two-level system?) The force is defined clasically as\n",
    "$$\n",
    "    F = -\\langle \\nabla\\mathcal{H} \\rangle.\n",
    "$$"
   ]
  },
  {
   "cell_type": "code",
   "execution_count": null,
   "metadata": {},
   "outputs": [],
   "source": [
    "H(z) = DenseOperator(sbasis, Ω / 2 * [0 exp(-im * k * z) exp(im * k * z); exp(im * k * z) 0 0; exp(-im * k * z) 0 0] - δ * [0 0 0; 0 1 0; 0 0 1])\n",
    "F(z) = DenseOperator(sbasis, im * k * Ω / 2 * [0 exp(-im * k * z) -exp(im * k * z); -exp(im * k * z) 0 0; exp(-im * k * z) 0 0]);   # Force"
   ]
  },
  {
   "cell_type": "markdown",
   "metadata": {},
   "source": [
    "Next define the quantum jump operators. There are two decay paths of equal strength. Recall that in our units the rate is simply 1:"
   ]
  },
  {
   "cell_type": "code",
   "execution_count": null,
   "metadata": {},
   "outputs": [],
   "source": [
    "rate = [1., 1.];\n",
    "L = [SparseOperator(sbasis, complex(sparse([0 1. 0; 0 0 0; 0 0 0]))),\n",
    "    SparseOperator(sbasis, complex(sparse([0 0 1.; 0 0 0; 0 0 0])))];\n",
    "Ldagger = dagger.(L);"
   ]
  },
  {
   "cell_type": "markdown",
   "metadata": {},
   "source": [
    "Define the initial condition and the time axis; these are the last ingredients needed for solving the master equation. We define a function that returns the force for some specified velocity:"
   ]
  },
  {
   "cell_type": "code",
   "execution_count": null,
   "metadata": {},
   "outputs": [],
   "source": [
    "ψ₀ = Ket(sbasis, [1, 0, 0]);\n",
    "T = [0:0.01:20;]\n",
    "\n",
    "function force(v)\n",
    "    Hₜ = (t, ρ) -> (H(v * t), L, Ldagger);\n",
    "    tout, ρₜ = timeevolution.master_dynamic(T, ψ₀, Hₜ; rates = rate);\n",
    "    return real(expect(F(tout[end] * v), ρₜ[end]))\n",
    "end"
   ]
  },
  {
   "cell_type": "markdown",
   "metadata": {},
   "source": [
    "#### Run and plot"
   ]
  },
  {
   "cell_type": "code",
   "execution_count": null,
   "metadata": {},
   "outputs": [],
   "source": [
    "vs = [-5:0.05:5;]\n",
    "forces = force.(vs);"
   ]
  },
  {
   "cell_type": "code",
   "execution_count": null,
   "metadata": {},
   "outputs": [],
   "source": [
    "plot(vs*k, forces / k,\n",
    "    width = 2,\n",
    "    xlims = (-5, 5),\n",
    "    xlabel = L\"$v$ [$\\Gamma$/k]\",\n",
    "    ylabel = L\"$F$ [$\\hbar k\\Gamma$]\",\n",
    "    frame = true,\n",
    "    xtickfont = font(15),\n",
    "    ytickfont = font(15),\n",
    "    xaxis = font(18),\n",
    "    yaxis = font(18),\n",
    "    label = \"\")"
   ]
  },
  {
   "cell_type": "markdown",
   "metadata": {},
   "source": [
    "This was calculated for the same parameters as Fig. 7.1 from _Laser Cooling and Trapping_ by Metcalf and Van der Straten. Compare:\n",
    "\n",
    "![](molasses-force.png)"
   ]
  },
  {
   "cell_type": "markdown",
   "metadata": {},
   "source": [
    "### Steady state convergence & behavior\n",
    "How does the system converge to the steady state, and what are the population distributions there? (Actually, $s_0 = 2$, so there's a significant portion of population in the excited state.)"
   ]
  },
  {
   "cell_type": "code",
   "execution_count": null,
   "metadata": {},
   "outputs": [],
   "source": [
    "Hₜ = (t, ρ) -> (H(0 * t), L, Ldagger);\n",
    "tout, ρₜ = timeevolution.master_dynamic(T, ψ₀, Hₜ; rates = rate);"
   ]
  },
  {
   "cell_type": "code",
   "execution_count": null,
   "metadata": {},
   "outputs": [],
   "source": [
    "plot(tout, real(expect(DenseOperator(sbasis, [1. 0 0; 0 0 0; 0 0 0]), ρₜ)), label = L\"$\\langle g | \\rho | g \\rangle$\", width = 2)\n",
    "plot!(tout, real(expect(DenseOperator(sbasis, [0 0 0; 0 1. 0; 0 0 0]), ρₜ)), label = L\"$\\langle e_{\\pm} | \\rho | e_{\\pm} \\rangle$\",\n",
    "    frame = true,\n",
    "    width = 2,\n",
    "    xlabel = L\"$t$ [$1/\\Gamma$]\",\n",
    "    xtickfont = font(15),\n",
    "    ytickfont = font(15),\n",
    "    xaxis = font(18),\n",
    "    yaxis = font(18),\n",
    "    legendfont = font(12))"
   ]
  },
  {
   "cell_type": "code",
   "execution_count": null,
   "metadata": {},
   "outputs": [],
   "source": []
  }
 ],
 "metadata": {
  "kernelspec": {
   "display_name": "Julia 1.2.0",
   "language": "julia",
   "name": "julia-1.2"
  },
  "language_info": {
   "file_extension": ".jl",
   "mimetype": "application/julia",
   "name": "julia",
   "version": "1.2.0"
  },
  "widgets": {
   "application/vnd.jupyter.widget-state+json": {
    "state": {},
    "version_major": 2,
    "version_minor": 0
   }
  }
 },
 "nbformat": 4,
 "nbformat_minor": 4
}
